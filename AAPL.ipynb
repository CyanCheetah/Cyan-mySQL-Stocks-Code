{
 "cells": [
  {
   "cell_type": "code",
   "execution_count": 5,
   "metadata": {},
   "outputs": [
    {
     "name": "stdout",
     "output_type": "stream",
     "text": [
      "[*********************100%***********************]  1 of 1 completed\n"
     ]
    }
   ],
   "source": [
    "import mysql.connector\n",
    "import yfinance as yf\n",
    "\n",
    "mydb = mysql.connector.connect(\n",
    "  host=\"localhost\",\n",
    "  user=\"root\",\n",
    "  password=\"Saitanujk1234\",\n",
    "  database=\"Cyan\"\n",
    ")\n",
    "\n",
    "mycursor = mydb.cursor()\n",
    "start_date = '1980-01-01'\n",
    "end_date = '2023-02-26'\n",
    "\n",
    "data = yf.download('AAPL', start=start_date, end=end_date)\n",
    "for index, row in data.iterrows():\n",
    "    date = index.strftime('%Y-%m-%d')\n",
    "    symbol = 'AAPL'\n",
    "    open_price = row['Open']\n",
    "    high_price = row['High']\n",
    "    low_price = row['Low']\n",
    "    close_price = row['Close']\n",
    "    adj_close_price = row['Adj Close']\n",
    "    \n",
    "    sql = \"INSERT INTO stock (date, symbol, open, high, low, close, adj_close) VALUES (%s, %s, %s, %s, %s, %s, %s)\"\n",
    "    val = (date, symbol, open_price, high_price, low_price, close_price, adj_close_price)\n",
    "    \n",
    "    mycursor.execute(sql, val)\n",
    "\n",
    "mydb.commit()\n",
    "mydb.close()\n"
   ]
  }
 ],
 "metadata": {
  "kernelspec": {
   "display_name": "Python 3",
   "language": "python",
   "name": "python3"
  },
  "language_info": {
   "codemirror_mode": {
    "name": "ipython",
    "version": 3
   },
   "file_extension": ".py",
   "mimetype": "text/x-python",
   "name": "python",
   "nbconvert_exporter": "python",
   "pygments_lexer": "ipython3",
   "version": "3.11.2"
  },
  "orig_nbformat": 4,
  "vscode": {
   "interpreter": {
    "hash": "9484679781c049c3437dfee15065884fd4de02f7f494cd181bbc34e180f48bf8"
   }
  }
 },
 "nbformat": 4,
 "nbformat_minor": 2
}
