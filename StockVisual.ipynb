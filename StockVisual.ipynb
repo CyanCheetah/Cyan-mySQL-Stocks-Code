{
 "cells": [
  {
   "cell_type": "code",
   "execution_count": 5,
   "metadata": {},
   "outputs": [
    {
     "ename": "ModuleNotFoundError",
     "evalue": "No module named 'MySQLdb'",
     "output_type": "error",
     "traceback": [
      "\u001b[1;31m---------------------------------------------------------------------------\u001b[0m",
      "\u001b[1;31mModuleNotFoundError\u001b[0m                       Traceback (most recent call last)",
      "Cell \u001b[1;32mIn[5], line 11\u001b[0m\n\u001b[0;32m      4\u001b[0m \u001b[39mfrom\u001b[39;00m \u001b[39msqlalchemy\u001b[39;00m \u001b[39mimport\u001b[39;00m create_engine\n\u001b[0;32m      5\u001b[0m mydb \u001b[39m=\u001b[39m mysql\u001b[39m.\u001b[39mconnector\u001b[39m.\u001b[39mconnect(\n\u001b[0;32m      6\u001b[0m   host\u001b[39m=\u001b[39m\u001b[39m\"\u001b[39m\u001b[39mlocalhost\u001b[39m\u001b[39m\"\u001b[39m,\n\u001b[0;32m      7\u001b[0m   user\u001b[39m=\u001b[39m\u001b[39m\"\u001b[39m\u001b[39mroot\u001b[39m\u001b[39m\"\u001b[39m,\n\u001b[0;32m      8\u001b[0m   password\u001b[39m=\u001b[39m\u001b[39m\"\u001b[39m\u001b[39mSaitanujk1234\u001b[39m\u001b[39m\"\u001b[39m,\n\u001b[0;32m      9\u001b[0m   database\u001b[39m=\u001b[39m\u001b[39m\"\u001b[39m\u001b[39mCyan\u001b[39m\u001b[39m\"\u001b[39m\n\u001b[0;32m     10\u001b[0m )\n\u001b[1;32m---> 11\u001b[0m engine \u001b[39m=\u001b[39m create_engine(\u001b[39m\"\u001b[39;49m\u001b[39mmysql:///?User=root&;Password=Saitanujk1234&Database=Cyan&Host=localhost&Port=3306\u001b[39;49m\u001b[39m\"\u001b[39;49m)\n\u001b[0;32m     12\u001b[0m mycursor \u001b[39m=\u001b[39m mydb\u001b[39m.\u001b[39mcursor()\n\u001b[0;32m     13\u001b[0m df \u001b[39m=\u001b[39m pandas\u001b[39m.\u001b[39mread_sql(\u001b[39m\"\u001b[39m\u001b[39mSELECT * FROM stocks\u001b[39m\u001b[39m\"\u001b[39m, engine)\n",
      "File \u001b[1;32m<string>:2\u001b[0m, in \u001b[0;36mcreate_engine\u001b[1;34m(url, **kwargs)\u001b[0m\n",
      "File \u001b[1;32mc:\\Users\\Tanuj Karavadi\\AppData\\Local\\Programs\\Python\\Python311\\Lib\\site-packages\\sqlalchemy\\util\\deprecations.py:277\u001b[0m, in \u001b[0;36mdeprecated_params.<locals>.decorate.<locals>.warned\u001b[1;34m(fn, *args, **kwargs)\u001b[0m\n\u001b[0;32m    270\u001b[0m     \u001b[39mif\u001b[39;00m m \u001b[39min\u001b[39;00m kwargs:\n\u001b[0;32m    271\u001b[0m         _warn_with_version(\n\u001b[0;32m    272\u001b[0m             messages[m],\n\u001b[0;32m    273\u001b[0m             versions[m],\n\u001b[0;32m    274\u001b[0m             version_warnings[m],\n\u001b[0;32m    275\u001b[0m             stacklevel\u001b[39m=\u001b[39m\u001b[39m3\u001b[39m,\n\u001b[0;32m    276\u001b[0m         )\n\u001b[1;32m--> 277\u001b[0m \u001b[39mreturn\u001b[39;00m fn(\u001b[39m*\u001b[39;49margs, \u001b[39m*\u001b[39;49m\u001b[39m*\u001b[39;49mkwargs)\n",
      "File \u001b[1;32mc:\\Users\\Tanuj Karavadi\\AppData\\Local\\Programs\\Python\\Python311\\Lib\\site-packages\\sqlalchemy\\engine\\create.py:600\u001b[0m, in \u001b[0;36mcreate_engine\u001b[1;34m(url, **kwargs)\u001b[0m\n\u001b[0;32m    598\u001b[0m         \u001b[39mif\u001b[39;00m k \u001b[39min\u001b[39;00m kwargs:\n\u001b[0;32m    599\u001b[0m             dbapi_args[k] \u001b[39m=\u001b[39m pop_kwarg(k)\n\u001b[1;32m--> 600\u001b[0m     dbapi \u001b[39m=\u001b[39m dbapi_meth(\u001b[39m*\u001b[39;49m\u001b[39m*\u001b[39;49mdbapi_args)\n\u001b[0;32m    602\u001b[0m dialect_args[\u001b[39m\"\u001b[39m\u001b[39mdbapi\u001b[39m\u001b[39m\"\u001b[39m] \u001b[39m=\u001b[39m dbapi\n\u001b[0;32m    604\u001b[0m dialect_args\u001b[39m.\u001b[39msetdefault(\u001b[39m\"\u001b[39m\u001b[39mcompiler_linting\u001b[39m\u001b[39m\"\u001b[39m, compiler\u001b[39m.\u001b[39mNO_LINTING)\n",
      "File \u001b[1;32mc:\\Users\\Tanuj Karavadi\\AppData\\Local\\Programs\\Python\\Python311\\Lib\\site-packages\\sqlalchemy\\dialects\\mysql\\mysqldb.py:152\u001b[0m, in \u001b[0;36mMySQLDialect_mysqldb.import_dbapi\u001b[1;34m(cls)\u001b[0m\n\u001b[0;32m    150\u001b[0m \u001b[39m@classmethod\u001b[39m\n\u001b[0;32m    151\u001b[0m \u001b[39mdef\u001b[39;00m \u001b[39mimport_dbapi\u001b[39m(\u001b[39mcls\u001b[39m):\n\u001b[1;32m--> 152\u001b[0m     \u001b[39mreturn\u001b[39;00m \u001b[39m__import__\u001b[39;49m(\u001b[39m\"\u001b[39;49m\u001b[39mMySQLdb\u001b[39;49m\u001b[39m\"\u001b[39;49m)\n",
      "\u001b[1;31mModuleNotFoundError\u001b[0m: No module named 'MySQLdb'"
     ]
    }
   ],
   "source": [
    "import pandas\n",
    "import matplotlib.pyplot as plt\n",
    "import mysql.connector\n",
    "from sqlalchemy import create_engine\n",
    "mydb = mysql.connector.connect(\n",
    "  host=\"localhost\",\n",
    "  user=\"root\",\n",
    "  password=\"Saitanujk1234\",\n",
    "  database=\"Cyan\"\n",
    ")\n",
    "engine = create_engine(\"mysql:///?User=root&;Password=Saitanujk1234&Database=Cyan&Server=myServer&Port=3306\")\n",
    "mycursor = mydb.cursor()\n",
    "df = pandas.read_sql(\"SELECT * FROM stocks\", engine)\n",
    "\n",
    "df.plot(kind=\"line\", x=\"date\", y=\"close\")\n",
    "plt.show()\n",
    "\n"
   ]
  }
 ],
 "metadata": {
  "kernelspec": {
   "display_name": "Python 3",
   "language": "python",
   "name": "python3"
  },
  "language_info": {
   "codemirror_mode": {
    "name": "ipython",
    "version": 3
   },
   "file_extension": ".py",
   "mimetype": "text/x-python",
   "name": "python",
   "nbconvert_exporter": "python",
   "pygments_lexer": "ipython3",
   "version": "3.11.2"
  },
  "orig_nbformat": 4
 },
 "nbformat": 4,
 "nbformat_minor": 2
}
