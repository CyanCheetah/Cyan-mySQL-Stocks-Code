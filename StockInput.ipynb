{
 "cells": [
  {
   "cell_type": "code",
   "execution_count": 6,
   "metadata": {},
   "outputs": [
    {
     "name": "stdout",
     "output_type": "stream",
     "text": [
      "[*********************100%***********************]  1 of 1 completed\n"
     ]
    }
   ],
   "source": [
    "import mysql.connector\n",
    "import yfinance as yf\n",
    "\n",
    "mydb = mysql.connector.connect(\n",
    "  host=\"localhost\",\n",
    "  user=\"root\",\n",
    "  password=\"Saitanujk1234\",\n",
    "  database=\"Cyan\"\n",
    ")\n",
    "mycursor = mydb.cursor()\n",
    "x = input('Enter a 4 letter Stock: ')\n",
    "start1 = input('Enter a start date in the formate of year-month-day: ')\n",
    "end2 = input('Enter a end date in the formate of year-month-day: ')\n",
    "new = \"DROP TABLE stock\"\n",
    "first = \"CREATE TABLE stock (date DATE,symbol VARCHAR(10),open FLOAT,high FLOAT,low FLOAT,close FLOAT,adj_close FLOAT);\"\n",
    "mycursor.execute(new)\n",
    "mycursor.execute(first)\n",
    "\n",
    "start_date = start1\n",
    "end_date = end2\n",
    "\n",
    "\n",
    "data = yf.download(x, start=start_date, end=end_date)\n",
    "for index, row in data.iterrows():\n",
    "\n",
    "    date = index.strftime('%Y-%m-%d')\n",
    "    symbol = x\n",
    "    open_price = row['Open']\n",
    "    high_price = row['High']\n",
    "    low_price = row['Low']\n",
    "    close_price = row['Close']\n",
    "    adj_close_price = row['Adj Close']\n",
    "\n",
    "\n",
    "    sql = \"INSERT INTO stock (date, symbol, open, high, low, close, adj_close) VALUES (%s, %s, %s, %s, %s, %s, %s)\"\n",
    "    val = (date, symbol, open_price, high_price, low_price, close_price, adj_close_price)\n",
    "\n",
    "    mycursor.execute(sql, val)\n",
    "\n",
    "\n",
    "mydb.commit()\n",
    "mydb.close()"
   ]
  }
 ],
 "metadata": {
  "kernelspec": {
   "display_name": "Python 3",
   "language": "python",
   "name": "python3"
  },
  "language_info": {
   "codemirror_mode": {
    "name": "ipython",
    "version": 3
   },
   "file_extension": ".py",
   "mimetype": "text/x-python",
   "name": "python",
   "nbconvert_exporter": "python",
   "pygments_lexer": "ipython3",
   "version": "3.11.2"
  },
  "orig_nbformat": 4
 },
 "nbformat": 4,
 "nbformat_minor": 2
}
